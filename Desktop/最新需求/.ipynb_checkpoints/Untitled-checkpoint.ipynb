{
 "cells": [
  {
   "cell_type": "code",
   "execution_count": 5,
   "id": "ced0b0fe",
   "metadata": {},
   "outputs": [
    {
     "name": "stdout",
     "output_type": "stream",
     "text": [
      "   listing_id  property_id            ttwa11nm plan_no\n",
      "0         666     14389490          Manchester  SJ7293\n",
      "1         798     12915131           Leicester  SP4194\n",
      "2         867     13138718                Rhyl  SJ1258\n",
      "3        1612     17262592              London  TQ2391\n",
      "4        1622     20816511  Pembroke and Tenby  SN1607\n"
     ]
    }
   ],
   "source": [
    "import pandas as pd\n",
    "\n",
    "# 读取CSV文件的前5行数据\n",
    "df = pd.read_csv(r'C:\\\\baidunetdiskdownload\\\\zoopla-data-gen1-sale.csv', encoding='utf-8', nrows=5)\n",
    "\n",
    "# 显示数据\n",
    "print(df)\n"
   ]
  },
  {
   "cell_type": "code",
   "execution_count": null,
   "id": "f2328031",
   "metadata": {},
   "outputs": [],
   "source": []
  }
 ],
 "metadata": {
  "kernelspec": {
   "display_name": "Python 3 (ipykernel)",
   "language": "python",
   "name": "python3"
  },
  "language_info": {
   "codemirror_mode": {
    "name": "ipython",
    "version": 3
   },
   "file_extension": ".py",
   "mimetype": "text/x-python",
   "name": "python",
   "nbconvert_exporter": "python",
   "pygments_lexer": "ipython3",
   "version": "3.8.10"
  }
 },
 "nbformat": 4,
 "nbformat_minor": 5
}
